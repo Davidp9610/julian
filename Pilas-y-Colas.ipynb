{
  "nbformat": 4,
  "nbformat_minor": 0,
  "metadata": {
    "colab": {
      "provenance": [],
      "authorship_tag": "ABX9TyOD8EhXbmGre2E5dsrjs56w",
      "include_colab_link": true
    },
    "kernelspec": {
      "name": "python3",
      "display_name": "Python 3"
    },
    "language_info": {
      "name": "python"
    }
  },
  "cells": [
    {
      "cell_type": "markdown",
      "metadata": {
        "id": "view-in-github",
        "colab_type": "text"
      },
      "source": [
        "<a href=\"https://colab.research.google.com/github/Davidp9610/julian/blob/master/Pilas-y-Colas.ipynb\" target=\"_parent\"><img src=\"https://colab.research.google.com/assets/colab-badge.svg\" alt=\"Open In Colab\"/></a>"
      ]
    },
    {
      "cell_type": "markdown",
      "source": [
        "ASIGNATURA: \n",
        "ESTRUTURA DE DATOS\n",
        "\n",
        "NOMBRE DEL TRABAJO:\n",
        "Actividad 3 - Reconociendo las Estructuras de Datos Lineales.\n",
        "\n",
        "ALUMNOS:\n",
        "JULIAN DAVID PALACIOS CARDENAS\n",
        "\n",
        "MICHAEL ANDRES COLLAZOS NARVAEZ \n",
        "\n",
        "\n",
        "DOCENTE:\n",
        "WILLIAM RUIZ\n",
        "\n",
        "\n",
        "CORPORACIÓN UNIVERSITARIA IBEROAMERICANA\n",
        "\n",
        "FECHA: 27/05/2023"
      ],
      "metadata": {
        "id": "6IrumIqOjwIo"
      }
    },
    {
      "cell_type": "markdown",
      "source": [
        "###Ejemplo pila"
      ],
      "metadata": {
        "id": "ua-if9YMvM6p"
      }
    },
    {
      "cell_type": "code",
      "source": [
        "# import module\n",
        "from tabulate import tabulate\n",
        "from collections import deque\n",
        "import numpy as np\n",
        "\n",
        "numeros = deque()\n",
        "# create header\n",
        "head = [\"numero\", \"registros\"]\n",
        "\n",
        "# Apilando elementos\n",
        "numeros.append('numero 1')\n",
        "numeros.append('numero 2')\n",
        "numeros.append('numero 3')\n",
        "numeros.append('numero 4')\n",
        "numeros.append('numero 5')\n",
        "print('\\x1b[0;32;40m' + '<<<---------------------------- Orden Pila ---------------------------->>>' + '\\x1b[0m')\n",
        "print('');\n",
        "print('');\n",
        "cont = 5;\n",
        "print(tabulate([[cont,numeros]], headers=['Numero de registros', 'Registros'], tablefmt=\"len\"))\n",
        "# Sacar elemento por el final\n",
        "valor_retirado = numeros.pop()\n",
        "\n",
        "print('');\n",
        "print('');\n",
        "# Desapilando todos los elementos\n",
        "while len(numeros) > 0:\n",
        "    cont= cont - 1;\n",
        "    print(tabulate([[cont,numeros]], headers=['Numero de registros', 'Registros'], tablefmt=\"len\"))\n",
        "    ultima_accion = numeros.pop()\n",
        "    print('');\n",
        "    print('');\n",
        "    # display table"
      ],
      "metadata": {
        "colab": {
          "base_uri": "https://localhost:8080/"
        },
        "id": "k3BVSFQskPbE",
        "outputId": "01ef8fa5-1f64-4be4-a2b8-58ea78c700b7"
      },
      "execution_count": 40,
      "outputs": [
        {
          "output_type": "stream",
          "name": "stdout",
          "text": [
            "\u001b[0;32;40m<<<---------------------------- Orden ---------------------------->>>\u001b[0m\n",
            "\n",
            "\n",
            "  Numero de registros  Registros\n",
            "---------------------  -------------------------------------------------------------------\n",
            "                    5  deque(['numero 1', 'numero 2', 'numero 3', 'numero 4', 'numero 5'])\n",
            "\n",
            "\n",
            "  Numero de registros  Registros\n",
            "---------------------  -------------------------------------------------------\n",
            "                    4  deque(['numero 1', 'numero 2', 'numero 3', 'numero 4'])\n",
            "\n",
            "\n",
            "  Numero de registros  Registros\n",
            "---------------------  -------------------------------------------\n",
            "                    3  deque(['numero 1', 'numero 2', 'numero 3'])\n",
            "\n",
            "\n",
            "  Numero de registros  Registros\n",
            "---------------------  -------------------------------\n",
            "                    2  deque(['numero 1', 'numero 2'])\n",
            "\n",
            "\n",
            "  Numero de registros  Registros\n",
            "---------------------  -------------------\n",
            "                    1  deque(['numero 1'])\n",
            "\n",
            "\n",
            "  Numero de registros  Registros\n",
            "---------------------  -----------\n",
            "                    0  deque([])\n",
            "\n",
            "\n"
          ]
        }
      ]
    },
    {
      "cell_type": "markdown",
      "source": [
        "## Ejemplo Cola"
      ],
      "metadata": {
        "id": "9phNmr8tvZzK"
      }
    },
    {
      "cell_type": "code",
      "source": [
        "# import module\n",
        "from tabulate import tabulate\n",
        "from collections import deque\n",
        "import numpy as np\n",
        "\n",
        "letras = deque()\n",
        "# create header\n",
        "head = [\"letras\", \"registros\"]\n",
        "\n",
        "# Apilando elementos\n",
        "letras.append('letra 1')\n",
        "letras.append('letra 2')\n",
        "letras.append('letra 3')\n",
        "letras.append('letra 4')\n",
        "letras.append('letra 5')\n",
        "print('\\x1b[0;32;40m' + '<<<---------------------------- Orden Cola ---------------------------->>>' + '\\x1b[0m')\n",
        "print('');\n",
        "print('');\n",
        "cont = 5;\n",
        "print(tabulate([[cont,letras]], headers=['Numero de registros', 'Registros'], tablefmt=\"len\"))\n",
        "# Sacar elemento por el final\n",
        "valor_retirado = letras.popleft()\n",
        "\n",
        "print('');\n",
        "print('');\n",
        "# Desapilando todos los elementos\n",
        "while len(letras) > 0:\n",
        "    cont= cont - 1;\n",
        "    print(tabulate([[cont,letras]], headers=['Numero de registros', 'Registros'], tablefmt=\"len\"))\n",
        "    ultima_accion = letras.popleft()\n",
        "    print('');\n",
        "    print('');\n",
        "    # display table\n",
        "print('');"
      ],
      "metadata": {
        "id": "c-oztTx4vfU1",
        "colab": {
          "base_uri": "https://localhost:8080/"
        },
        "outputId": "c5ae21de-7c5b-4ec9-8687-324d339d81ce"
      },
      "execution_count": 41,
      "outputs": [
        {
          "output_type": "stream",
          "name": "stdout",
          "text": [
            "\u001b[0;32;40m<<<---------------------------- Orden ---------------------------->>>\u001b[0m\n",
            "\n",
            "\n",
            "  Numero de registros  Registros\n",
            "---------------------  --------------------------------------------------------------\n",
            "                    5  deque(['letra 1', 'letra 2', 'letra 3', 'letra 4', 'letra 5'])\n",
            "\n",
            "\n",
            "  Numero de registros  Registros\n",
            "---------------------  ---------------------------------------------------\n",
            "                    4  deque(['letra 2', 'letra 3', 'letra 4', 'letra 5'])\n",
            "\n",
            "\n",
            "  Numero de registros  Registros\n",
            "---------------------  ----------------------------------------\n",
            "                    3  deque(['letra 3', 'letra 4', 'letra 5'])\n",
            "\n",
            "\n",
            "  Numero de registros  Registros\n",
            "---------------------  -----------------------------\n",
            "                    2  deque(['letra 4', 'letra 5'])\n",
            "\n",
            "\n",
            "  Numero de registros  Registros\n",
            "---------------------  ------------------\n",
            "                    1  deque(['letra 5'])\n",
            "\n",
            "\n",
            "\n"
          ]
        }
      ]
    }
  ]
}